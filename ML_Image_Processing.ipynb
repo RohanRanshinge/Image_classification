{
  "nbformat": 4,
  "nbformat_minor": 0,
  "metadata": {
    "colab": {
      "name": "ML_Image_Processing.ipynb",
      "version": "0.3.2",
      "provenance": [],
      "collapsed_sections": [],
      "include_colab_link": true
    },
    "kernelspec": {
      "name": "python3",
      "display_name": "Python 3"
    },
    "accelerator": "TPU"
  },
  "cells": [
    {
      "cell_type": "markdown",
      "metadata": {
        "id": "view-in-github",
        "colab_type": "text"
      },
      "source": [
        "<a href=\"https://colab.research.google.com/github/RohanRanshinge/Image_classification/blob/master/ML_Image_Processing.ipynb\" target=\"_parent\"><img src=\"https://colab.research.google.com/assets/colab-badge.svg\" alt=\"Open In Colab\"/></a>"
      ]
    },
    {
      "metadata": {
        "id": "ON_hFnL36_zD",
        "colab_type": "text"
      },
      "cell_type": "markdown",
      "source": [
        "# Image Classification using CNN "
      ]
    },
    {
      "metadata": {
        "id": "7PfGJ34b7Lx4",
        "colab_type": "text"
      },
      "cell_type": "markdown",
      "source": [
        "###  Importing the required libraries"
      ]
    },
    {
      "metadata": {
        "id": "10fK_j5-TuOB",
        "colab_type": "code",
        "colab": {}
      },
      "cell_type": "code",
      "source": [
        "from PIL import Image\n",
        "import numpy as np\n",
        "import os\n",
        "from random import shuffle\n",
        "import matplotlib.pyplot as plt\n"
      ],
      "execution_count": 0,
      "outputs": []
    },
    {
      "metadata": {
        "id": "9IIuGwIwUIQ2",
        "colab_type": "code",
        "outputId": "76db83c6-e689-4402-b94b-dea3dfb65388",
        "colab": {
          "base_uri": "https://localhost:8080/",
          "height": 34
        }
      },
      "cell_type": "code",
      "source": [
        "%matplotlib inline\n",
        "import matplotlib.pyplot as plt\n",
        "import matplotlib.image as mpimg\n",
        "from keras.preprocessing.image import ImageDataGenerator\n",
        "from keras.models import Sequential\n",
        "from keras.optimizers import RMSprop\n",
        "from keras.layers import Conv2D, MaxPooling2D\n",
        "from keras.layers import Activation, Dropout, Flatten, Dense\n",
        "from keras.callbacks import CSVLogger\n",
        "import sys"
      ],
      "execution_count": 2,
      "outputs": [
        {
          "output_type": "stream",
          "text": [
            "Using TensorFlow backend.\n"
          ],
          "name": "stderr"
        }
      ]
    },
    {
      "metadata": {
        "id": "JVOpZLUi_Irs",
        "colab_type": "code",
        "colab": {}
      },
      "cell_type": "code",
      "source": [
        "GOOGLE_COLAB = True\n",
        "TRAINING_LOGS_FILE = \"training_logs.csv\"\n",
        "MODEL_SUMMARY_FILE = \"model_summary.txt\"\n",
        "TEST_FILE = \"test_file.txt\"\n",
        "MODEL_FILE = \"model.h5\""
      ],
      "execution_count": 0,
      "outputs": []
    },
    {
      "metadata": {
        "id": "-l3tQ3_h_NZj",
        "colab_type": "code",
        "outputId": "89df9508-2d34-4acd-9657-9dd0aa11d3c2",
        "colab": {
          "base_uri": "https://localhost:8080/",
          "height": 34
        }
      },
      "cell_type": "code",
      "source": [
        "if GOOGLE_COLAB:\n",
        "    !pip -q install livelossplot\n",
        "from livelossplot import PlotLossesKeras\n"
      ],
      "execution_count": 4,
      "outputs": [
        {
          "output_type": "stream",
          "text": [
            "  Building wheel for livelossplot (setup.py) ... \u001b[?25ldone\n",
            "\u001b[?25h"
          ],
          "name": "stdout"
        }
      ]
    },
    {
      "metadata": {
        "id": "KzgSynMG7exD",
        "colab_type": "text"
      },
      "cell_type": "markdown",
      "source": [
        "## Ingestion"
      ]
    },
    {
      "metadata": {
        "id": "g74cmOqN7tnG",
        "colab_type": "text"
      },
      "cell_type": "markdown",
      "source": [
        "### Setting up colab connection with Google drive"
      ]
    },
    {
      "metadata": {
        "id": "PCFHviro_QtF",
        "colab_type": "code",
        "colab": {}
      },
      "cell_type": "code",
      "source": [
        "# Data\n",
        "path = \"\"\n",
        "if GOOGLE_COLAB:\n",
        "    from google.colab import drive, files\n",
        "    drive.mount('/content/drive/', force_remount=True)\n",
        "    path = \"/content/drive/My Drive/Colab Notebooks/Image_Classifier/\"\n",
        "training_data_dir = path + \"data/training\" \n",
        "validation_data_dir = path + \"data/validation\" \n",
        "test_data_dir = path + \"data/test1\""
      ],
      "execution_count": 0,
      "outputs": []
    },
    {
      "metadata": {
        "id": "tBjKbpZ4I9a6",
        "colab_type": "code",
        "colab": {}
      },
      "cell_type": "code",
      "source": [
        "#test_data_dir"
      ],
      "execution_count": 0,
      "outputs": []
    },
    {
      "metadata": {
        "id": "_Gy0RlSb88T5",
        "colab_type": "text"
      },
      "cell_type": "markdown",
      "source": [
        "## CNN"
      ]
    },
    {
      "metadata": {
        "id": "Te9KdSr3_sS_",
        "colab_type": "code",
        "colab": {}
      },
      "cell_type": "code",
      "source": [
        "# Hyperparams\n",
        "IMAGE_SIZE = 200\n",
        "IMAGE_WIDTH, IMAGE_HEIGHT = IMAGE_SIZE, IMAGE_SIZE\n",
        "EPOCHS = 20\n",
        "BATCH_SIZE = 32\n",
        "TEST_SIZE = 30\n",
        "\n",
        "input_shape = (IMAGE_WIDTH, IMAGE_HEIGHT, 3)"
      ],
      "execution_count": 0,
      "outputs": []
    },
    {
      "metadata": {
        "id": "q1j2UnKE9Aha",
        "colab_type": "text"
      },
      "cell_type": "markdown",
      "source": [
        "**Model**"
      ]
    },
    {
      "metadata": {
        "id": "WbW_tdplGNMF",
        "colab_type": "code",
        "colab": {}
      },
      "cell_type": "code",
      "source": [
        "# Model\n",
        "model = Sequential()\n",
        "\n",
        "model.add(Conv2D(32, 3, 3, border_mode='same', input_shape=input_shape, activation='relu'))\n",
        "model.add(Conv2D(32, 3, 3, border_mode='same', activation='relu'))\n",
        "model.add(MaxPooling2D(pool_size=(2, 2)))\n",
        "\n",
        "model.add(Conv2D(64, 3, 3, border_mode='same', activation='relu'))\n",
        "model.add(Conv2D(64, 3, 3, border_mode='same', activation='relu'))\n",
        "model.add(MaxPooling2D(pool_size=(2, 2)))\n",
        "\n",
        "model.add(Conv2D(128, 3, 3, border_mode='same', activation='relu'))\n",
        "model.add(Conv2D(128, 3, 3, border_mode='same', activation='relu'))\n",
        "model.add(MaxPooling2D(pool_size=(2, 2)))\n",
        "\n",
        "model.add(Conv2D(256, 3, 3, border_mode='same', activation='relu'))\n",
        "model.add(Conv2D(256, 3, 3, border_mode='same', activation='relu'))\n",
        "model.add(MaxPooling2D(pool_size=(2, 2)))\n",
        "\n",
        "model.add(Flatten())\n",
        "model.add(Dense(256, activation='relu'))\n",
        "model.add(Dropout(0.5))\n",
        "\n",
        "model.add(Dense(256, activation='relu'))\n",
        "model.add(Dropout(0.5))\n",
        "\n",
        "model.add(Dense(1))\n",
        "model.add(Activation('sigmoid'))\n",
        "    \n",
        "model.compile(loss='binary_crossentropy',\n",
        "            optimizer=RMSprop(lr=0.0001),\n",
        "            metrics=['accuracy'])\n",
        "\n",
        "with open(MODEL_SUMMARY_FILE,\"w\") as fh:\n",
        "    model.summary(print_fn=lambda line: fh.write(line + \"\\n\"))"
      ],
      "execution_count": 0,
      "outputs": []
    },
    {
      "metadata": {
        "id": "mv6tYSMYGVJ1",
        "colab_type": "code",
        "colab": {}
      },
      "cell_type": "code",
      "source": [
        "# Data augmentation\n",
        "training_data_generator = ImageDataGenerator(\n",
        "    rescale=1./255,\n",
        "    shear_range=0.1,\n",
        "    zoom_range=0.1,\n",
        "    horizontal_flip=True)\n",
        "validation_data_generator = ImageDataGenerator(rescale=1./255)\n",
        "test_data_generator = ImageDataGenerator(rescale=1./255)"
      ],
      "execution_count": 0,
      "outputs": []
    },
    {
      "metadata": {
        "id": "bZBTNjOM8REt",
        "colab_type": "code",
        "colab": {}
      },
      "cell_type": "code",
      "source": [
        "# Data preparation\n",
        "training_generator = training_data_generator.flow_from_directory(\n",
        "    training_data_dir,\n",
        "    target_size=(IMAGE_WIDTH, IMAGE_HEIGHT),\n",
        "    batch_size=BATCH_SIZE,\n",
        "    class_mode=\"binary\")\n",
        "validation_generator = validation_data_generator.flow_from_directory(\n",
        "    validation_data_dir,\n",
        "    target_size=(IMAGE_WIDTH, IMAGE_HEIGHT),\n",
        "    batch_size=BATCH_SIZE,\n",
        "    class_mode=\"binary\")\n",
        "test_generator = test_data_generator.flow_from_directory(\n",
        "    test_data_dir,\n",
        "    target_size=(IMAGE_WIDTH, IMAGE_HEIGHT),\n",
        "    batch_size=1,\n",
        "    class_mode=\"binary\", \n",
        "    shuffle=True)"
      ],
      "execution_count": 0,
      "outputs": []
    },
    {
      "metadata": {
        "id": "4u1KZDQr9Hem",
        "colab_type": "text"
      },
      "cell_type": "markdown",
      "source": [
        "**Training**"
      ]
    },
    {
      "metadata": {
        "id": "ZbQ4RKUOG2LW",
        "colab_type": "code",
        "colab": {}
      },
      "cell_type": "code",
      "source": [
        "# Training\n",
        "model.fit_generator(\n",
        "    training_generator,\n",
        "    steps_per_epoch=len(training_generator.filenames) // BATCH_SIZE,\n",
        "    epochs=EPOCHS,\n",
        "    validation_data=validation_generator,\n",
        "    validation_steps=len(validation_generator.filenames) // BATCH_SIZE,\n",
        "    callbacks=[PlotLossesKeras(), CSVLogger(TRAINING_LOGS_FILE,\n",
        "                                            append=False,\n",
        "                                            separator=\";\")], \n",
        "    verbose=1)\n",
        "model.save_weights(MODEL_FILE)"
      ],
      "execution_count": 0,
      "outputs": []
    },
    {
      "metadata": {
        "id": "rtINKL6o6-Pn",
        "colab_type": "text"
      },
      "cell_type": "markdown",
      "source": [
        "**Testing**"
      ]
    },
    {
      "metadata": {
        "id": "-HP30zppJs8j",
        "colab_type": "code",
        "colab": {}
      },
      "cell_type": "code",
      "source": [
        "# Testing\n",
        "open(TEST_FILE,\"w\")\n",
        "probabilities = model.predict_generator(test_generator, TEST_SIZE)\n",
        "for index, probability in enumerate(probabilities):\n",
        "    image_path = test_data_dir + \"/\" +test_generator.filenames[index]\n",
        "    img = mpimg.imread(image_path)\n",
        "    with open(TEST_FILE,\"a\") as fh:\n",
        "        fh.write(str(probability[0]) + \" for: \" + image_path + \"\\n\")\n",
        "    plt.imshow(img)\n",
        "    if probability > 0.5:\n",
        "        plt.title(\"%.2f\" % (probability[0]*100) + \"% Rohan\")\n",
        "    else:\n",
        "        plt.title(\"%.2f\" % ((1-probability[0])*100) + \"% Not Rohan\")\n",
        "    plt.show()\n",
        "\n",
        "#if GOOGLE_COLAB:\n",
        "#    files.download(MODEL_SUMMARY_FILE)\n",
        "#    files.download(MODEL_FILE)\n",
        "#    files.download(TRAINING_LOGS_FILE)\n",
        "#    files.download(TEST_FILE)"
      ],
      "execution_count": 0,
      "outputs": []
    },
    {
      "metadata": {
        "id": "pq-ODHzJh-7t",
        "colab_type": "code",
        "colab": {}
      },
      "cell_type": "code",
      "source": [
        "# 2nd try at Testing\n",
        "open(TEST_FILE,\"w\")\n",
        "probabilities = model.predict_generator(test_generator, TEST_SIZE)\n",
        "for index, probability in enumerate(probabilities):\n",
        "    image_path = test_data_dir + \"/\" +test_generator.filenames[index]\n",
        "    img = mpimg.imread(image_path)\n",
        "    with open(TEST_FILE,\"a\") as fh:\n",
        "        fh.write(str(probability[0]) + \" for: \" + image_path + \"\\n\")\n",
        "    plt.imshow(img)\n",
        "    if probability > 0.5:\n",
        "        plt.title(\"%.2f\" % (probability[0]*100) + \"% Rohan\")\n",
        "    else:\n",
        "        plt.title(\"%.2f\" % ((1-probability[0])*100) + \"% Not Rohan\")\n",
        "    plt.show()\n",
        "\n",
        "#if GOOGLE_COLAB:\n",
        " #   files.download(MODEL_SUMMARY_FILE)\n",
        "  #  files.download(MODEL_FILE)\n",
        "   # files.download(TRAINING_LOGS_FILE)\n",
        "#    files.download(TEST_FILE)\n"
      ],
      "execution_count": 0,
      "outputs": []
    },
    {
      "metadata": {
        "id": "efbzsvtkieU0",
        "colab_type": "code",
        "colab": {}
      },
      "cell_type": "code",
      "source": [
        ""
      ],
      "execution_count": 0,
      "outputs": []
    }
  ]
}